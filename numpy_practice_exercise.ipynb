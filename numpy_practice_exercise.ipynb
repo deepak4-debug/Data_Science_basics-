{
 "cells": [
  {
   "cell_type": "markdown",
   "metadata": {
    "id": "JFgkVoNazJKa"
   },
   "source": [
    "![](../docs/banner.png)"
   ]
  },
  {
   "cell_type": "markdown",
   "metadata": {
    "id": "tHMh85l0zJKl"
   },
   "source": [
    "# NumPy\n"
   ]
  },
  {
   "cell_type": "markdown",
   "metadata": {
    "id": "Tgr2bVVFzJKo"
   },
   "source": [
    "## Exercises"
   ]
  },
  {
   "cell_type": "markdown",
   "metadata": {
    "id": "nrmRSUl2zJKr"
   },
   "source": [
    "### 1."
   ]
  },
  {
   "cell_type": "markdown",
   "metadata": {
    "id": "cwgWEJFPzJKs"
   },
   "source": [
    "Import numpy under the alias `np`."
   ]
  },
  {
   "cell_type": "code",
   "execution_count": 8,
   "metadata": {},
   "outputs": [],
   "source": [
    "import numpy as np"
   ]
  },
  {
   "cell_type": "markdown",
   "metadata": {
    "id": "olU7NCNnzJKx"
   },
   "source": [
    "### 2."
   ]
  },
  {
   "cell_type": "markdown",
   "metadata": {
    "id": "UugP6Q80zJK2"
   },
   "source": [
    "Create the following arrays:\n",
    "\n",
    "1. Create an array of 5 zeros.\n",
    "2. Create an array of 10 ones.\n",
    "3. Create an array of 5 3.141s.\n",
    "4. Create an array of the integers 1 to 20.\n",
    "5. Create a 5 x 5 matrix of ones with a dtype `int`."
   ]
  },
  {
   "cell_type": "code",
   "execution_count": 9,
   "metadata": {},
   "outputs": [
    {
     "data": {
      "text/plain": [
       "array([0., 0., 0., 0., 0.])"
      ]
     },
     "execution_count": 9,
     "metadata": {},
     "output_type": "execute_result"
    }
   ],
   "source": [
    "np.zeros(5)"
   ]
  },
  {
   "cell_type": "code",
   "execution_count": 4,
   "metadata": {},
   "outputs": [
    {
     "data": {
      "text/plain": [
       "array([1., 1., 1., 1., 1., 1., 1., 1., 1., 1.])"
      ]
     },
     "execution_count": 4,
     "metadata": {},
     "output_type": "execute_result"
    }
   ],
   "source": [
    "np.ones(10)"
   ]
  },
  {
   "cell_type": "code",
   "execution_count": 5,
   "metadata": {},
   "outputs": [
    {
     "data": {
      "text/plain": [
       "array([53.141, 53.141, 53.141, 53.141, 53.141, 53.141, 53.141])"
      ]
     },
     "execution_count": 5,
     "metadata": {},
     "output_type": "execute_result"
    }
   ],
   "source": [
    "np.full((7), 53.141)"
   ]
  },
  {
   "cell_type": "code",
   "execution_count": 6,
   "metadata": {},
   "outputs": [
    {
     "data": {
      "text/plain": [
       "array([ 1,  2,  3,  4,  5,  6,  7,  8,  9, 10, 11, 12, 13, 14, 15, 16, 17,\n",
       "       18, 19, 20])"
      ]
     },
     "execution_count": 6,
     "metadata": {},
     "output_type": "execute_result"
    }
   ],
   "source": [
    "np.arange(1,21)"
   ]
  },
  {
   "cell_type": "code",
   "execution_count": 7,
   "metadata": {
    "id": "HXBKLa_7zJKu"
   },
   "outputs": [
    {
     "data": {
      "text/plain": [
       "array([[1, 1, 1, 1, 1],\n",
       "       [1, 1, 1, 1, 1],\n",
       "       [1, 1, 1, 1, 1],\n",
       "       [1, 1, 1, 1, 1],\n",
       "       [1, 1, 1, 1, 1]])"
      ]
     },
     "execution_count": 7,
     "metadata": {},
     "output_type": "execute_result"
    }
   ],
   "source": [
    "np.ones((5, 5)).astype(int)"
   ]
  },
  {
   "cell_type": "markdown",
   "metadata": {
    "id": "KzBeuO-2zJK8"
   },
   "source": [
    "### 3."
   ]
  },
  {
   "cell_type": "markdown",
   "metadata": {
    "id": "Ae81C2o6zJK-"
   },
   "source": [
    "Use numpy to:\n",
    "1. Create an 3D matrix of 3 x 3 x 3 full of random numbers drawn from a standard normal distribution (hint: `np.random.randn()`)\n",
    "2. Reshape the above array into shape (27,)"
   ]
  },
  {
   "cell_type": "code",
   "execution_count": 10,
   "metadata": {
    "id": "vlukr_RKzJK_"
   },
   "outputs": [
    {
     "data": {
      "text/plain": [
       "array([[[ 0.71565236, -1.82125348, -0.53661278],\n",
       "        [-1.05778842,  1.05770128, -1.15305773],\n",
       "        [-2.34989333, -0.33710645, -1.19150943]],\n",
       "\n",
       "       [[-0.10468328, -1.51261189, -0.87692343],\n",
       "        [-0.93270906,  0.84472435,  2.11454781],\n",
       "        [-0.71139423,  1.6953084 ,  0.47434257]],\n",
       "\n",
       "       [[-0.15972562, -0.51191241, -0.27423618],\n",
       "        [ 1.04164477, -0.32565802, -0.88389166],\n",
       "        [ 0.22814415, -0.298801  ,  0.76846303]]])"
      ]
     },
     "execution_count": 10,
     "metadata": {},
     "output_type": "execute_result"
    }
   ],
   "source": [
    "x = np.random.randn(3, 3, 3)\n",
    "x"
   ]
  },
  {
   "cell_type": "code",
   "execution_count": 11,
   "metadata": {},
   "outputs": [
    {
     "data": {
      "text/plain": [
       "array([ 0.71565236, -1.82125348, -0.53661278, -1.05778842,  1.05770128,\n",
       "       -1.15305773, -2.34989333, -0.33710645, -1.19150943, -0.10468328,\n",
       "       -1.51261189, -0.87692343, -0.93270906,  0.84472435,  2.11454781,\n",
       "       -0.71139423,  1.6953084 ,  0.47434257, -0.15972562, -0.51191241,\n",
       "       -0.27423618,  1.04164477, -0.32565802, -0.88389166,  0.22814415,\n",
       "       -0.298801  ,  0.76846303])"
      ]
     },
     "execution_count": 11,
     "metadata": {},
     "output_type": "execute_result"
    }
   ],
   "source": [
    "x.reshape(27,)"
   ]
  },
  {
   "cell_type": "markdown",
   "metadata": {
    "id": "7Kx49_cAzJLE"
   },
   "source": [
    "### 4."
   ]
  },
  {
   "cell_type": "markdown",
   "metadata": {
    "id": "Eth4SDIxzJLG"
   },
   "source": [
    "Create an array of 20 linearly spaced numbers between 1 and 10."
   ]
  },
  {
   "cell_type": "code",
   "execution_count": 12,
   "metadata": {
    "id": "Mut_wTkBzJLI"
   },
   "outputs": [
    {
     "data": {
      "text/plain": [
       "array([1. , 1.5, 2. , 2.5, 3. , 3.5, 4. , 4.5, 5. , 5.5, 6. , 6.5, 7. ,\n",
       "       7.5, 8. , 8.5, 9. , 9.5])"
      ]
     },
     "execution_count": 12,
     "metadata": {},
     "output_type": "execute_result"
    }
   ],
   "source": [
    "np.arange(1, 10, 0.5)"
   ]
  },
  {
   "cell_type": "markdown",
   "metadata": {
    "id": "2qnaVxA8zJLJ"
   },
   "source": [
    "### 5."
   ]
  },
  {
   "cell_type": "markdown",
   "metadata": {
    "id": "IWL2anUDzJLL"
   },
   "source": [
    "Run the following code to create an array of shape 4 x 4 and then use indexing to produce the outputs shown below."
   ]
  },
  {
   "cell_type": "code",
   "execution_count": 14,
   "metadata": {
    "id": "qoP6kJEEzJLM"
   },
   "outputs": [
    {
     "name": "stdout",
     "output_type": "stream",
     "text": [
      "[[ 1  2  3  4  5]\n",
      " [ 6  7  8  9 10]\n",
      " [11 12 13 14 15]\n",
      " [16 17 18 19 20]\n",
      " [21 22 23 24 25]]\n"
     ]
    },
    {
     "data": {
      "text/plain": [
       "20"
      ]
     },
     "execution_count": 14,
     "metadata": {},
     "output_type": "execute_result"
    }
   ],
   "source": [
    "a = np.arange(1, 26).reshape(5, -1)\n",
    "print(a)\n",
    "a[3,4]"
   ]
  },
  {
   "cell_type": "markdown",
   "metadata": {
    "id": "GAqeSPMdzJLN"
   },
   "source": [
    "```python\n",
    "20\n",
    "```"
   ]
  },
  {
   "cell_type": "code",
   "execution_count": 15,
   "metadata": {
    "id": "ypdM0Mc5zJLO"
   },
   "outputs": [
    {
     "data": {
      "text/plain": [
       "array([[ 9, 10],\n",
       "       [14, 15],\n",
       "       [19, 20],\n",
       "       [24, 25]])"
      ]
     },
     "execution_count": 15,
     "metadata": {},
     "output_type": "execute_result"
    }
   ],
   "source": [
    "a[1:, 3:]"
   ]
  },
  {
   "cell_type": "markdown",
   "metadata": {
    "id": "hC0qGZkHzJLQ"
   },
   "source": [
    "```python\n",
    "array([[ 9, 10],\n",
    "       [14, 15],\n",
    "       [19, 20],\n",
    "       [24, 25]])\n",
    "```"
   ]
  },
  {
   "cell_type": "code",
   "execution_count": 16,
   "metadata": {
    "id": "AOQXY7U3zJLR"
   },
   "outputs": [
    {
     "data": {
      "text/plain": [
       "array([ 6,  7,  8,  9, 10])"
      ]
     },
     "execution_count": 16,
     "metadata": {},
     "output_type": "execute_result"
    }
   ],
   "source": [
    "a[1]"
   ]
  },
  {
   "cell_type": "markdown",
   "metadata": {
    "id": "V3egStlbzJLS"
   },
   "source": [
    "```python\n",
    "array([ 6,  7,  8,  9, 10])\n",
    "```"
   ]
  },
  {
   "cell_type": "code",
   "execution_count": 18,
   "metadata": {
    "id": "XlIjAyySzJLT"
   },
   "outputs": [
    {
     "data": {
      "text/plain": [
       "array([[11, 12, 13, 14, 15],\n",
       "       [16, 17, 18, 19, 20]])"
      ]
     },
     "execution_count": 18,
     "metadata": {},
     "output_type": "execute_result"
    }
   ],
   "source": [
    "a[2:4,:]"
   ]
  },
  {
   "cell_type": "markdown",
   "metadata": {
    "id": "2o0maSDXzJLU"
   },
   "source": [
    "```python\n",
    "array([[11, 12, 13, 14, 15],\n",
    "       [16, 17, 18, 19, 20]])\n",
    "```"
   ]
  },
  {
   "cell_type": "code",
   "execution_count": 19,
   "metadata": {
    "id": "iTUn-y3zzJLU"
   },
   "outputs": [
    {
     "data": {
      "text/plain": [
       "array([[ 8,  9],\n",
       "       [13, 14]])"
      ]
     },
     "execution_count": 19,
     "metadata": {},
     "output_type": "execute_result"
    }
   ],
   "source": [
    "a[1:3,2:4]"
   ]
  },
  {
   "cell_type": "markdown",
   "metadata": {
    "id": "rboSYYXdzJLV"
   },
   "source": [
    "```python\n",
    "array([[ 8,  9],\n",
    "       [13, 14]])\n",
    "```"
   ]
  },
  {
   "cell_type": "markdown",
   "metadata": {
    "id": "vfwsA6IJzJLY"
   },
   "source": [
    "### 6."
   ]
  },
  {
   "cell_type": "markdown",
   "metadata": {
    "id": "LLqhrQFKzJLZ"
   },
   "source": [
    "Calculate the sum of all the numbers in `a`."
   ]
  },
  {
   "cell_type": "code",
   "execution_count": 20,
   "metadata": {
    "id": "36pY51hJzJLc"
   },
   "outputs": [
    {
     "data": {
      "text/plain": [
       "325"
      ]
     },
     "execution_count": 20,
     "metadata": {},
     "output_type": "execute_result"
    }
   ],
   "source": [
    "a.sum()"
   ]
  },
  {
   "cell_type": "markdown",
   "metadata": {
    "id": "e5T-kj5nzJLd"
   },
   "source": [
    "### 7."
   ]
  },
  {
   "cell_type": "markdown",
   "metadata": {
    "id": "NpHYEbMzzJLe"
   },
   "source": [
    "Calculate the sum of each row in `a`."
   ]
  },
  {
   "cell_type": "code",
   "execution_count": 26,
   "metadata": {
    "id": "J5YJx0BAzJLf"
   },
   "outputs": [
    {
     "name": "stdout",
     "output_type": "stream",
     "text": [
      "15\n",
      "40\n",
      "65\n",
      "90\n",
      "115\n"
     ]
    }
   ],
   "source": [
    "for i in range(5):\n",
    "    sum = a[i].sum()\n",
    "    print(sum)"
   ]
  },
  {
   "cell_type": "markdown",
   "metadata": {
    "id": "uFY7jNmIzJLg"
   },
   "source": [
    "### 8."
   ]
  },
  {
   "cell_type": "markdown",
   "metadata": {
    "id": "H1KzHv3jzJLk"
   },
   "source": [
    "Extract all values of `a` greater than the mean of `a` (hint: use a boolean mask)."
   ]
  },
  {
   "cell_type": "code",
   "execution_count": 27,
   "metadata": {
    "id": "OIq5W9byzJLl"
   },
   "outputs": [
    {
     "data": {
      "text/plain": [
       "array([[False, False, False, False, False],\n",
       "       [False, False, False, False, False],\n",
       "       [False, False, False,  True,  True],\n",
       "       [ True,  True,  True,  True,  True],\n",
       "       [ True,  True,  True,  True,  True]])"
      ]
     },
     "execution_count": 27,
     "metadata": {},
     "output_type": "execute_result"
    }
   ],
   "source": [
    "a.mean() < a"
   ]
  },
  {
   "cell_type": "markdown",
   "metadata": {
    "id": "Lmiftxi8zJLm"
   },
   "source": [
    "### 9."
   ]
  },
  {
   "cell_type": "markdown",
   "metadata": {
    "id": "MHTyFT4ezJLm"
   },
   "source": [
    "Find the location of the minimum value in the following array `b`:"
   ]
  },
  {
   "cell_type": "code",
   "execution_count": 29,
   "metadata": {
    "id": "DPzOs3BczJLn",
    "outputId": "05de18df-8966-4e68-9cf8-3caf10df391d"
   },
   "outputs": [
    {
     "data": {
      "text/plain": [
       "array([-1.0856306 ,  0.99734545,  0.2829785 , -1.50629471, -0.57860025,\n",
       "        1.65143654, -2.42667924, -0.42891263,  1.26593626, -0.8667404 ])"
      ]
     },
     "execution_count": 29,
     "metadata": {},
     "output_type": "execute_result"
    }
   ],
   "source": [
    "np.random.seed(123)\n",
    "b = np.random.randn(10)\n",
    "b"
   ]
  },
  {
   "cell_type": "code",
   "execution_count": 32,
   "metadata": {
    "id": "KaQBOAFizJLq"
   },
   "outputs": [
    {
     "data": {
      "text/plain": [
       "6"
      ]
     },
     "execution_count": 32,
     "metadata": {},
     "output_type": "execute_result"
    }
   ],
   "source": [
    "b.argmin()"
   ]
  },
  {
   "cell_type": "markdown",
   "metadata": {
    "id": "Qfjy5RBkzJLr"
   },
   "source": [
    "### 10."
   ]
  },
  {
   "cell_type": "markdown",
   "metadata": {
    "id": "_zCLBsryzJLs"
   },
   "source": [
    "Find the location of the maximum value in the following 2D array `c` (hint: there are many ways to do this question, but a quick search on stackoverflow.com will typically help you find the optimum solution for a problem, for example see [post](https://stackoverflow.com/questions/3584243/get-the-position-of-the-biggest-item-in-a-multi-dimensional-numpy-array)):"
   ]
  },
  {
   "cell_type": "code",
   "execution_count": 34,
   "metadata": {
    "id": "Uj0Pg_SPzJLt",
    "outputId": "ea8ab99d-3964-476e-8b00-eee50c5a76f9"
   },
   "outputs": [
    {
     "data": {
      "text/plain": [
       "array([[-1.0856306 ,  0.99734545],\n",
       "       [ 0.2829785 , -1.50629471],\n",
       "       [-0.57860025,  1.65143654]])"
      ]
     },
     "execution_count": 34,
     "metadata": {},
     "output_type": "execute_result"
    }
   ],
   "source": [
    "np.random.seed(123)\n",
    "c = np.random.randn(3, 2)\n",
    "c"
   ]
  },
  {
   "cell_type": "code",
   "execution_count": 35,
   "metadata": {
    "id": "SphoLqsxzJLu"
   },
   "outputs": [
    {
     "data": {
      "text/plain": [
       "5"
      ]
     },
     "execution_count": 35,
     "metadata": {},
     "output_type": "execute_result"
    }
   ],
   "source": [
    "c.argmax()"
   ]
  },
  {
   "cell_type": "markdown",
   "metadata": {
    "id": "Vt8dwm2HzJLv"
   },
   "source": [
    "<hr>\n",
    "<hr>\n",
    "<hr>"
   ]
  }
 ],
 "metadata": {
  "colab": {
   "name": "numpy-practice-exercise.ipynb",
   "provenance": []
  },
  "kernelspec": {
   "display_name": "Python 3",
   "language": "python",
   "name": "python3"
  },
  "language_info": {
   "codemirror_mode": {
    "name": "ipython",
    "version": 3
   },
   "file_extension": ".py",
   "mimetype": "text/x-python",
   "name": "python",
   "nbconvert_exporter": "python",
   "pygments_lexer": "ipython3",
   "version": "3.7.6"
  }
 },
 "nbformat": 4,
 "nbformat_minor": 1
}
